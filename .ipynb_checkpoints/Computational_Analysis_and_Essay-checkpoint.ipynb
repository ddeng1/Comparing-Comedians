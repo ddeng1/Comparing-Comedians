{
 "cells": [
  {
   "cell_type": "code",
   "execution_count": 1,
   "metadata": {},
   "outputs": [],
   "source": [
    "%load_ext autoreload\n",
    "%autoreload 2"
   ]
  },
  {
   "cell_type": "code",
   "execution_count": 2,
   "metadata": {},
   "outputs": [],
   "source": [
    "import matplotlib.pyplot as plt\n",
    "import pandas as pd\n",
    "%matplotlib inline"
   ]
  },
  {
   "cell_type": "markdown",
   "metadata": {},
   "source": [
    "## Project 2: Analysis of Different Comedy Styles\n",
    "\n",
    "### By Daniel Deng"
   ]
  },
  {
   "cell_type": "markdown",
   "metadata": {},
   "source": [
    "# 1. Introduction\n",
    "\n",
    "The question that this project aimed to answer was, \"What makes the style of every comedian unique?\" In search for an answer to this question, I wanted to take a look at highly rated standup comedy shows performed by some of the comedians that I know and use that to see how similar or different each comedian's style and approach was. I found answering this question important because it not only widens my understanding of the different forms of linguistic expression employed by each individual comedian but could also forms the basis of recommending other people to listen to a particular comedian given the similarity of their style with another comedian.    \n",
    "\n",
    "For this project, the first piece of information I needed was the comedians themselves. I chose 5 comedians to start with (2 whose styles I was familiar with) and 3 that I did not know very well. I used IMDb ratings and reviews to select the comedy specials from each of these comedians that I wanted to analyze. For each comedian, I selected their highest rated and reviewed show and used them to answer the above question. The other step that I took was to find the transcripts of these comedy specials and choose the python libraries that I wanted to use in the analysis."
   ]
  },
  {
   "cell_type": "markdown",
   "metadata": {},
   "source": [
    "# 2. Methodology\n",
    "\n",
    "From IMDb database, I did a search of the highest rated and popular standup comedy specials perfomed by the comedians of interest in the last recent years. This allowed me to be objective in my analysis since these were similarly rated performance, perfomed around the same time period and were around 60 minutes in length each. I then did a research of popular sites that store transcripts of standup comedies and found [Scraps from the Loft](https://scrapsfromtheloft.com/stand-up-comedy-scripts/) which had all the transcript collections that I needed.  \n",
    "\n",
    "I then used BeautifulSoup library to scrap the pages with the transcripts for each of the comedians and store them in a folder in my local drive. In the folder were files that represented each comedian's transcript text. The ```check_file_exist``` function checked if the comedian's transcript file existed and if it did not, then it went ahead and performed the scraping using ```url_transcript```. This is after I realized that it was doing the scraping everytime I called the functions to analyze the texts.  \n",
    "\n",
    "As shown by the output below, I created a dictionary whose key was the comedian's name and the value was the transcript. I then converted this dictionary into a pandas dataframe for later visualization analysis. Lastly, in order to organize this data ready for analysis, I used Regular Expression (re) to clean the data: making all text lower case, removing text in square brackets(words not spoken by the comedian), removing non-text words and newline characters. This is the clean data that I will use to perform the analysis."
   ]
  },
  {
   "cell_type": "code",
   "execution_count": 3,
   "metadata": {},
   "outputs": [
    {
     "data": {
      "text/html": [
       "<div>\n",
       "<style scoped>\n",
       "    .dataframe tbody tr th:only-of-type {\n",
       "        vertical-align: middle;\n",
       "    }\n",
       "\n",
       "    .dataframe tbody tr th {\n",
       "        vertical-align: top;\n",
       "    }\n",
       "\n",
       "    .dataframe thead th {\n",
       "        text-align: right;\n",
       "    }\n",
       "</style>\n",
       "<table border=\"1\" class=\"dataframe\">\n",
       "  <thead>\n",
       "    <tr style=\"text-align: right;\">\n",
       "      <th></th>\n",
       "      <th>Transcripts</th>\n",
       "    </tr>\n",
       "  </thead>\n",
       "  <tbody>\n",
       "    <tr>\n",
       "      <th>Trevor</th>\n",
       "      <td>\\n A NETFLIX ORIGINAL COMEDY SPECIAL [distant traffic] LIVE NATION PRESENTS TREVOR NOAH\\n [prese...</td>\n",
       "    </tr>\n",
       "    <tr>\n",
       "      <th>Dave</th>\n",
       "      <td>\\n Sticks &amp; Stones is Dave Chappelle’s fifth Netflix special.\\n In the promotional trailer Morga...</td>\n",
       "    </tr>\n",
       "    <tr>\n",
       "      <th>Joe</th>\n",
       "      <td>\\n [rock music playing] [audience cheering] [announcer] Ladies and gentlemen, welcome Joe Rogan....</td>\n",
       "    </tr>\n",
       "    <tr>\n",
       "      <th>John</th>\n",
       "      <td>\\n [organ music playing]\\n Welcome to Radio City Music Hall. It’s time. Any questions? No. Walk ...</td>\n",
       "    </tr>\n",
       "    <tr>\n",
       "      <th>Maria</th>\n",
       "      <td>\\n [microphone droans]\\n [music playing]\\n [crowd cheering, applauding]\\n Thank you for coming o...</td>\n",
       "    </tr>\n",
       "  </tbody>\n",
       "</table>\n",
       "</div>"
      ],
      "text/plain": [
       "                                                                                                Transcripts\n",
       "Trevor  \\n A NETFLIX ORIGINAL COMEDY SPECIAL [distant traffic] LIVE NATION PRESENTS TREVOR NOAH\\n [prese...\n",
       "Dave    \\n Sticks & Stones is Dave Chappelle’s fifth Netflix special.\\n In the promotional trailer Morga...\n",
       "Joe     \\n [rock music playing] [audience cheering] [announcer] Ladies and gentlemen, welcome Joe Rogan....\n",
       "John    \\n [organ music playing]\\n Welcome to Radio City Music Hall. It’s time. Any questions? No. Walk ...\n",
       "Maria   \\n [microphone droans]\\n [music playing]\\n [crowd cheering, applauding]\\n Thank you for coming o..."
      ]
     },
     "execution_count": 3,
     "metadata": {},
     "output_type": "execute_result"
    }
   ],
   "source": [
    "# Dictionary of comedians and transcript converted into a pandas dataframe\n",
    "from cleaning import *\n",
    "data"
   ]
  },
  {
   "cell_type": "code",
   "execution_count": 4,
   "metadata": {},
   "outputs": [
    {
     "data": {
      "text/html": [
       "<div>\n",
       "<style scoped>\n",
       "    .dataframe tbody tr th:only-of-type {\n",
       "        vertical-align: middle;\n",
       "    }\n",
       "\n",
       "    .dataframe tbody tr th {\n",
       "        vertical-align: top;\n",
       "    }\n",
       "\n",
       "    .dataframe thead th {\n",
       "        text-align: right;\n",
       "    }\n",
       "</style>\n",
       "<table border=\"1\" class=\"dataframe\">\n",
       "  <thead>\n",
       "    <tr style=\"text-align: right;\">\n",
       "      <th></th>\n",
       "      <th>Transcripts</th>\n",
       "      <th>full_name</th>\n",
       "    </tr>\n",
       "  </thead>\n",
       "  <tbody>\n",
       "    <tr>\n",
       "      <th>Trevor</th>\n",
       "      <td>a netflix original comedy special  live nation presents trevor noah  beautiful people put your ...</td>\n",
       "      <td>Trevor Noah</td>\n",
       "    </tr>\n",
       "    <tr>\n",
       "      <th>Dave</th>\n",
       "      <td>sticks  stones is dave chappelles fifth netflix special in the promotional trailer morgan freem...</td>\n",
       "      <td>Dave Chappelle</td>\n",
       "    </tr>\n",
       "    <tr>\n",
       "      <th>Joe</th>\n",
       "      <td>ladies and gentlemen welcome joe rogan  what the fuck is going on san francisco thanks for c...</td>\n",
       "      <td>Joe Rogan</td>\n",
       "    </tr>\n",
       "    <tr>\n",
       "      <th>John</th>\n",
       "      <td>welcome to radio city music hall its time any questions no walk with me    good evening hi im ...</td>\n",
       "      <td>John Mulaney</td>\n",
       "    </tr>\n",
       "    <tr>\n",
       "      <th>Maria</th>\n",
       "      <td>thank you for coming out  great time oh yes oh yeah and thank you you the viewer whos probab...</td>\n",
       "      <td>Maria Bamford</td>\n",
       "    </tr>\n",
       "  </tbody>\n",
       "</table>\n",
       "</div>"
      ],
      "text/plain": [
       "                                                                                                Transcripts  \\\n",
       "Trevor   a netflix original comedy special  live nation presents trevor noah  beautiful people put your ...   \n",
       "Dave     sticks  stones is dave chappelles fifth netflix special in the promotional trailer morgan freem...   \n",
       "Joe         ladies and gentlemen welcome joe rogan  what the fuck is going on san francisco thanks for c...   \n",
       "John      welcome to radio city music hall its time any questions no walk with me    good evening hi im ...   \n",
       "Maria       thank you for coming out  great time oh yes oh yeah and thank you you the viewer whos probab...   \n",
       "\n",
       "             full_name  \n",
       "Trevor     Trevor Noah  \n",
       "Dave    Dave Chappelle  \n",
       "Joe          Joe Rogan  \n",
       "John      John Mulaney  \n",
       "Maria    Maria Bamford  "
      ]
     },
     "execution_count": 4,
     "metadata": {},
     "output_type": "execute_result"
    }
   ],
   "source": [
    "#Clean version of the trancripts (converted to lower case, remove commentator's words \n",
    "# and non-text characters) and a column with full names of comedians\n",
    "data_clean"
   ]
  },
  {
   "cell_type": "markdown",
   "metadata": {},
   "source": [
    "# 3. Results\n",
    "\n",
    "#### 3.1 Tokenize Transcripts\n",
    "\n",
    "I used a scit-learn library feature called CountVectorizer to tokenize the transcripts and split them into bags of words that will make it easier to compare different comedian's words usage. Using this library I also removed English stop words which are common words that add no value to the analysis and omitting them changes nothing. I have shown the tokenized data below for each comedian."
   ]
  },
  {
   "cell_type": "code",
   "execution_count": 5,
   "metadata": {},
   "outputs": [
    {
     "data": {
      "text/html": [
       "<div>\n",
       "<style scoped>\n",
       "    .dataframe tbody tr th:only-of-type {\n",
       "        vertical-align: middle;\n",
       "    }\n",
       "\n",
       "    .dataframe tbody tr th {\n",
       "        vertical-align: top;\n",
       "    }\n",
       "\n",
       "    .dataframe thead th {\n",
       "        text-align: right;\n",
       "    }\n",
       "</style>\n",
       "<table border=\"1\" class=\"dataframe\">\n",
       "  <thead>\n",
       "    <tr style=\"text-align: right;\">\n",
       "      <th></th>\n",
       "      <th>Trevor</th>\n",
       "      <th>Dave</th>\n",
       "      <th>Joe</th>\n",
       "      <th>John</th>\n",
       "      <th>Maria</th>\n",
       "    </tr>\n",
       "  </thead>\n",
       "  <tbody>\n",
       "    <tr>\n",
       "      <th>aaaah</th>\n",
       "      <td>0</td>\n",
       "      <td>1</td>\n",
       "      <td>0</td>\n",
       "      <td>0</td>\n",
       "      <td>0</td>\n",
       "    </tr>\n",
       "    <tr>\n",
       "      <th>aah</th>\n",
       "      <td>0</td>\n",
       "      <td>2</td>\n",
       "      <td>0</td>\n",
       "      <td>0</td>\n",
       "      <td>0</td>\n",
       "    </tr>\n",
       "    <tr>\n",
       "      <th>aand</th>\n",
       "      <td>0</td>\n",
       "      <td>2</td>\n",
       "      <td>0</td>\n",
       "      <td>0</td>\n",
       "      <td>0</td>\n",
       "    </tr>\n",
       "    <tr>\n",
       "      <th>abandon</th>\n",
       "      <td>0</td>\n",
       "      <td>1</td>\n",
       "      <td>0</td>\n",
       "      <td>0</td>\n",
       "      <td>0</td>\n",
       "    </tr>\n",
       "    <tr>\n",
       "      <th>abandoned</th>\n",
       "      <td>1</td>\n",
       "      <td>0</td>\n",
       "      <td>0</td>\n",
       "      <td>0</td>\n",
       "      <td>1</td>\n",
       "    </tr>\n",
       "  </tbody>\n",
       "</table>\n",
       "</div>"
      ],
      "text/plain": [
       "           Trevor  Dave  Joe  John  Maria\n",
       "aaaah           0     1    0     0      0\n",
       "aah             0     2    0     0      0\n",
       "aand            0     2    0     0      0\n",
       "abandon         0     1    0     0      0\n",
       "abandoned       1     0    0     0      1"
      ]
     },
     "execution_count": 5,
     "metadata": {},
     "output_type": "execute_result"
    }
   ],
   "source": [
    "from analysis import *\n",
    "data_df.head()"
   ]
  },
  {
   "cell_type": "markdown",
   "metadata": {},
   "source": [
    "#### 3.2 Unique Words\n",
    "\n",
    "With the tokenized words dataframe, I then created a count of words that were unique to each comedian and used pandas to rank how the comedians compared in terms of the breadth and scale of their vocabulary. As shown by the output below, Maria Bamford comedy special had the most number of unique words (1,617) while Dave Chappelle's had the least (1,232)."
   ]
  },
  {
   "cell_type": "code",
   "execution_count": 6,
   "metadata": {},
   "outputs": [
    {
     "data": {
      "text/html": [
       "<div>\n",
       "<style scoped>\n",
       "    .dataframe tbody tr th:only-of-type {\n",
       "        vertical-align: middle;\n",
       "    }\n",
       "\n",
       "    .dataframe tbody tr th {\n",
       "        vertical-align: top;\n",
       "    }\n",
       "\n",
       "    .dataframe thead th {\n",
       "        text-align: right;\n",
       "    }\n",
       "</style>\n",
       "<table border=\"1\" class=\"dataframe\">\n",
       "  <thead>\n",
       "    <tr style=\"text-align: right;\">\n",
       "      <th></th>\n",
       "      <th>comedian</th>\n",
       "      <th>unique_words</th>\n",
       "    </tr>\n",
       "  </thead>\n",
       "  <tbody>\n",
       "    <tr>\n",
       "      <th>1</th>\n",
       "      <td>Dave Chappelle</td>\n",
       "      <td>1232</td>\n",
       "    </tr>\n",
       "    <tr>\n",
       "      <th>0</th>\n",
       "      <td>Trevor Noah</td>\n",
       "      <td>1240</td>\n",
       "    </tr>\n",
       "    <tr>\n",
       "      <th>3</th>\n",
       "      <td>John Mulaney</td>\n",
       "      <td>1398</td>\n",
       "    </tr>\n",
       "    <tr>\n",
       "      <th>2</th>\n",
       "      <td>Joe Rogan</td>\n",
       "      <td>1434</td>\n",
       "    </tr>\n",
       "    <tr>\n",
       "      <th>4</th>\n",
       "      <td>Maria Bamford</td>\n",
       "      <td>1617</td>\n",
       "    </tr>\n",
       "  </tbody>\n",
       "</table>\n",
       "</div>"
      ],
      "text/plain": [
       "         comedian  unique_words\n",
       "1  Dave Chappelle          1232\n",
       "0     Trevor Noah          1240\n",
       "3    John Mulaney          1398\n",
       "2       Joe Rogan          1434\n",
       "4   Maria Bamford          1617"
      ]
     },
     "execution_count": 6,
     "metadata": {},
     "output_type": "execute_result"
    }
   ],
   "source": [
    "#Dataframe of comedians the number of unique words in their comedy special\n",
    "data_words_sort"
   ]
  },
  {
   "cell_type": "markdown",
   "metadata": {},
   "source": [
    "#### 3.3 Pace of Speech\n",
    "\n",
    "I counted all the words that each comedian used in their show and divided that by the length of the show to to see the pace at which each comedian spoke. As can be illustrated by the table below, Trevor and Joe speak the most words per minute at approximately 73 and 72 words per minute respectively. On the hand Maria and Dave speak few words at approximately 53 and 56 words per minute repsectively."
   ]
  },
  {
   "cell_type": "code",
   "execution_count": 9,
   "metadata": {},
   "outputs": [
    {
     "data": {
      "text/html": [
       "<div>\n",
       "<style scoped>\n",
       "    .dataframe tbody tr th:only-of-type {\n",
       "        vertical-align: middle;\n",
       "    }\n",
       "\n",
       "    .dataframe tbody tr th {\n",
       "        vertical-align: top;\n",
       "    }\n",
       "\n",
       "    .dataframe thead th {\n",
       "        text-align: right;\n",
       "    }\n",
       "</style>\n",
       "<table border=\"1\" class=\"dataframe\">\n",
       "  <thead>\n",
       "    <tr style=\"text-align: right;\">\n",
       "      <th></th>\n",
       "      <th>comedian</th>\n",
       "      <th>unique_words</th>\n",
       "      <th>total_words</th>\n",
       "      <th>run_times(min)</th>\n",
       "      <th>words_per_minute</th>\n",
       "    </tr>\n",
       "  </thead>\n",
       "  <tbody>\n",
       "    <tr>\n",
       "      <th>4</th>\n",
       "      <td>Maria Bamford</td>\n",
       "      <td>1617</td>\n",
       "      <td>3938</td>\n",
       "      <td>74</td>\n",
       "      <td>53.216216</td>\n",
       "    </tr>\n",
       "    <tr>\n",
       "      <th>1</th>\n",
       "      <td>Dave Chappelle</td>\n",
       "      <td>1232</td>\n",
       "      <td>3644</td>\n",
       "      <td>65</td>\n",
       "      <td>56.061538</td>\n",
       "    </tr>\n",
       "    <tr>\n",
       "      <th>3</th>\n",
       "      <td>John Mulaney</td>\n",
       "      <td>1398</td>\n",
       "      <td>3815</td>\n",
       "      <td>65</td>\n",
       "      <td>58.692308</td>\n",
       "    </tr>\n",
       "    <tr>\n",
       "      <th>2</th>\n",
       "      <td>Joe Rogan</td>\n",
       "      <td>1434</td>\n",
       "      <td>4579</td>\n",
       "      <td>63</td>\n",
       "      <td>72.682540</td>\n",
       "    </tr>\n",
       "    <tr>\n",
       "      <th>0</th>\n",
       "      <td>Trevor Noah</td>\n",
       "      <td>1240</td>\n",
       "      <td>4606</td>\n",
       "      <td>63</td>\n",
       "      <td>73.111111</td>\n",
       "    </tr>\n",
       "  </tbody>\n",
       "</table>\n",
       "</div>"
      ],
      "text/plain": [
       "         comedian  unique_words  total_words  run_times(min)  words_per_minute\n",
       "4   Maria Bamford          1617         3938              74         53.216216\n",
       "1  Dave Chappelle          1232         3644              65         56.061538\n",
       "3    John Mulaney          1398         3815              65         58.692308\n",
       "2       Joe Rogan          1434         4579              63         72.682540\n",
       "0     Trevor Noah          1240         4606              63         73.111111"
      ]
     },
     "execution_count": 9,
     "metadata": {},
     "output_type": "execute_result"
    },
    {
     "data": {
      "image/png": "[encoded data removed]",
      "text/plain": [
       "<Figure size 432x288 with 2 Axes>"
      ]
     },
     "metadata": {
      "needs_background": "light"
     },
     "output_type": "display_data"
    }
   ],
   "source": [
    "#Number of words per minute\n",
    "analyze_unique_words()\n"
   ]
  },
  {
   "cell_type": "markdown",
   "metadata": {},
   "source": [
    "#### 3.4 Sentiment Analysis\n",
    "The last visualization analysis I did was a sentiment analysis in which I used an NLP text processing library known as TextBlob to get the polarity (whether positive or negative) and subjectivity (whether opinion or fact) of each of the words in the transcripts of the comedy. After putting these values into a pandas dataframe format, I then created a scatter plot to show where each comedian ranks. As shown by the plot output, Joe Rogan's comedy special was highly opinionated and more of his words were categorized as negative. This is similar to Dave Chappelle style although Chappele comedy special was less opinionated. John Mulaney and Trevor Noah rank similar as they are more objective(fact-based). Maria's comedy style consists of balance of factual and opinion based statements and is more positive in comparison to the rest of the comedians.  "
   ]
  },
  {
   "cell_type": "code",
   "execution_count": 10,
   "metadata": {},
   "outputs": [
    {
     "data": {
      "image/png": "[encoded data removed]",
      "text/plain": [
       "<Figure size 720x576 with 1 Axes>"
      ]
     },
     "metadata": {
      "needs_background": "light"
     },
     "output_type": "display_data"
    }
   ],
   "source": [
    "analyze_sentiments()\n"
   ]
  },
  {
   "cell_type": "markdown",
   "metadata": {},
   "source": [
    "# 4. Conclusion  \n",
    "\n",
    "For the most part of the analysis, I answered the question \"what makes comedians unique in their style?\" This analysis enables someone to understand their favorite comedians better through comparing them to other highly ranked artists. The analysis looks at various aspects of comedy delivery such as number of unique words, pace of speech and a sentiment analysis of their comedy scripts. Each of the analysis also enables a fan of a certain comedian to consider other comedians that might have similar attributes as the one they listen to. For instance in the sentiment analysis above, if one listens to Trevor Noah because of his obectivity, then they might be able to listen to John Mulaney for the same reason. Also if one listens to Joe Rogan because of their opinions, then they might listen to Dave Chappelle since they are much more opinion-based comedians.  \n",
    "\n",
    "Initially the hardest part of the project was scrapping. This is because each time I scrapped and came back the following day, the HTML elements that refered to the data that I needed to scrape had changed. This was quite frustrating at first as I had to re-do my scraping function. However, I managed to overcome this by creating a folder of scraped transcript files and only referred to the scraping function if the file was missing. This made my code run a lot faster and without issues. In future, I would like to expand this project by performing topic modelling on the transcripts so that I can compare also what the subject matter that each comedian talks about is.\n",
    "\n",
    "Lastly, while data mining and use of NLP in sentiment analysis is becoming widespread in especially marketing and customer analysis, its misuse can raise privacy concern. Since tools for analysis are so easily available, it becomes very easy for individuals and entities to get hold of private biometric data and that can be used in manipulative ways and infringe upon the privacy rights of individuals. This is therefore a great concern that data scientists and other stakeholders must keep in mind as they push the horizons of this technology.\n"
   ]
  }
 ],
 "metadata": {
  "kernelspec": {
   "display_name": "Python 3",
   "language": "python",
   "name": "python3"
  },
  "language_info": {
   "codemirror_mode": {
    "name": "ipython",
    "version": 3
   },
   "file_extension": ".py",
   "mimetype": "text/x-python",
   "name": "python",
   "nbconvert_exporter": "python",
   "pygments_lexer": "ipython3",
   "version": "3.8.3"
  }
 },
 "nbformat": 4,
 "nbformat_minor": 4
}
